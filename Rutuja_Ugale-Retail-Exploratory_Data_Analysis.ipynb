{
 "cells": [
  {
   "cell_type": "markdown",
   "id": "7f41ab79",
   "metadata": {},
   "source": [
    "## INTRODUCTION"
   ]
  },
  {
   "cell_type": "markdown",
   "id": "5764d393",
   "metadata": {},
   "source": [
    "## Retail Anlysis"
   ]
  },
  {
   "cell_type": "markdown",
   "id": "bbbc44c3",
   "metadata": {},
   "source": [
    "* Following are the features of analysis:\n",
    "* Order ID: Order identification number for each product\n",
    "* Product: Product name\n",
    "* Quantity Ordered: Amount of items\n",
    "* Price Each: Price of each product per item in dollars\n",
    "* Order Date: Date of purchase\n",
    "* Purchase Address: Address of purchase order"
   ]
  },
  {
   "cell_type": "markdown",
   "id": "51688902",
   "metadata": {},
   "source": [
    "* In this dataset we have 6 coulumns.in that 4 are numeric and 2 are categorical.Order id is nothing but the order identification of each product.order id different for every product.the coulumn product gives name of tne product.the Quantity ordered gives information amount of item ordred by the customer.order date gives information about the date of purchased the product.purchase address gives information of adress of purchased the order. "
   ]
  },
  {
   "cell_type": "code",
   "execution_count": 96,
   "id": "7fca0f13",
   "metadata": {},
   "outputs": [],
   "source": [
    "# Importing the all Required libraries:\n",
    "import os\n",
    "# Data Manipulation\n",
    "import numpy as np \n",
    "import pandas as pd\n",
    "# Data Visualization\n",
    "import matplotlib.pyplot as plt\n",
    "import seaborn as sns\n",
    "# import Datetime for Date Analysis.\n",
    "import datetime\n",
    "# import missingno for dealing with missing values\n",
    "import missingno as msno"
   ]
  },
  {
   "cell_type": "markdown",
   "id": "44bd816d",
   "metadata": {},
   "source": [
    "* Here i Imported all required libraries,Those are needs for our data manipulation and data vizulization."
   ]
  },
  {
   "cell_type": "code",
   "execution_count": 97,
   "id": "9327e51f",
   "metadata": {},
   "outputs": [],
   "source": [
    "# Importing The All Dataset\n",
    "data = pd.read_excel(\"C:/Users/DELL/Downloads/all_data_copy.xlsx\")"
   ]
  },
  {
   "cell_type": "markdown",
   "id": "7c8114db",
   "metadata": {},
   "source": [
    "* To Explore Data firstly we have to read data.to import data i used the pd.read function"
   ]
  },
  {
   "cell_type": "markdown",
   "id": "549fe2ed",
   "metadata": {},
   "source": [
    "## Basic Exploration"
   ]
  },
  {
   "cell_type": "code",
   "execution_count": 98,
   "id": "ff2b1078",
   "metadata": {},
   "outputs": [
    {
     "data": {
      "text/html": [
       "<div>\n",
       "<style scoped>\n",
       "    .dataframe tbody tr th:only-of-type {\n",
       "        vertical-align: middle;\n",
       "    }\n",
       "\n",
       "    .dataframe tbody tr th {\n",
       "        vertical-align: top;\n",
       "    }\n",
       "\n",
       "    .dataframe thead th {\n",
       "        text-align: right;\n",
       "    }\n",
       "</style>\n",
       "<table border=\"1\" class=\"dataframe\">\n",
       "  <thead>\n",
       "    <tr style=\"text-align: right;\">\n",
       "      <th></th>\n",
       "      <th>Order ID</th>\n",
       "      <th>Product</th>\n",
       "      <th>Quantity Ordered</th>\n",
       "      <th>Price Each</th>\n",
       "      <th>Order Date</th>\n",
       "      <th>Purchase Address</th>\n",
       "    </tr>\n",
       "  </thead>\n",
       "  <tbody>\n",
       "    <tr>\n",
       "      <th>0</th>\n",
       "      <td>141234.0</td>\n",
       "      <td>iPhone</td>\n",
       "      <td>1.0</td>\n",
       "      <td>700.0</td>\n",
       "      <td>2019-01-22 21:25:00</td>\n",
       "      <td>944 Walnut St, Boston, MA 02215</td>\n",
       "    </tr>\n",
       "    <tr>\n",
       "      <th>1</th>\n",
       "      <td>141235.0</td>\n",
       "      <td>Lightning Charging Cable</td>\n",
       "      <td>1.0</td>\n",
       "      <td>14.95</td>\n",
       "      <td>2019-01-28 14:15:00</td>\n",
       "      <td>185 Maple St, Portland, OR 97035</td>\n",
       "    </tr>\n",
       "    <tr>\n",
       "      <th>2</th>\n",
       "      <td>141236.0</td>\n",
       "      <td>Wired Headphones</td>\n",
       "      <td>2.0</td>\n",
       "      <td>11.99</td>\n",
       "      <td>2019-01-17 13:33:00</td>\n",
       "      <td>538 Adams St, San Francisco, CA 94016</td>\n",
       "    </tr>\n",
       "    <tr>\n",
       "      <th>3</th>\n",
       "      <td>141237.0</td>\n",
       "      <td>27in FHD Monitor</td>\n",
       "      <td>1.0</td>\n",
       "      <td>149.99</td>\n",
       "      <td>2019-01-05 20:33:00</td>\n",
       "      <td>738 10th St, Los Angeles, CA 90001</td>\n",
       "    </tr>\n",
       "    <tr>\n",
       "      <th>4</th>\n",
       "      <td>141238.0</td>\n",
       "      <td>Wired Headphones</td>\n",
       "      <td>1.0</td>\n",
       "      <td>11.99</td>\n",
       "      <td>2019-01-25 11:59:00</td>\n",
       "      <td>387 10th St, Austin, TX 73301</td>\n",
       "    </tr>\n",
       "  </tbody>\n",
       "</table>\n",
       "</div>"
      ],
      "text/plain": [
       "   Order ID                   Product Quantity Ordered Price Each  \\\n",
       "0  141234.0                    iPhone              1.0      700.0   \n",
       "1  141235.0  Lightning Charging Cable              1.0      14.95   \n",
       "2  141236.0          Wired Headphones              2.0      11.99   \n",
       "3  141237.0          27in FHD Monitor              1.0     149.99   \n",
       "4  141238.0          Wired Headphones              1.0      11.99   \n",
       "\n",
       "            Order Date                       Purchase Address  \n",
       "0  2019-01-22 21:25:00        944 Walnut St, Boston, MA 02215  \n",
       "1  2019-01-28 14:15:00       185 Maple St, Portland, OR 97035  \n",
       "2  2019-01-17 13:33:00  538 Adams St, San Francisco, CA 94016  \n",
       "3  2019-01-05 20:33:00     738 10th St, Los Angeles, CA 90001  \n",
       "4  2019-01-25 11:59:00          387 10th St, Austin, TX 73301  "
      ]
     },
     "execution_count": 98,
     "metadata": {},
     "output_type": "execute_result"
    }
   ],
   "source": [
    "# To See First Five rows of Dataset\n",
    "data.head()"
   ]
  },
  {
   "cell_type": "markdown",
   "id": "c2a7c816",
   "metadata": {},
   "source": [
    "* Here i used the head() function i want to see first five observations of the Dataset.Because i want to Understand how Data is distributed at the Starting of Table."
   ]
  },
  {
   "cell_type": "code",
   "execution_count": 99,
   "id": "7efbbcbb",
   "metadata": {},
   "outputs": [
    {
     "data": {
      "text/html": [
       "<div>\n",
       "<style scoped>\n",
       "    .dataframe tbody tr th:only-of-type {\n",
       "        vertical-align: middle;\n",
       "    }\n",
       "\n",
       "    .dataframe tbody tr th {\n",
       "        vertical-align: top;\n",
       "    }\n",
       "\n",
       "    .dataframe thead th {\n",
       "        text-align: right;\n",
       "    }\n",
       "</style>\n",
       "<table border=\"1\" class=\"dataframe\">\n",
       "  <thead>\n",
       "    <tr style=\"text-align: right;\">\n",
       "      <th></th>\n",
       "      <th>Order ID</th>\n",
       "      <th>Product</th>\n",
       "      <th>Quantity Ordered</th>\n",
       "      <th>Price Each</th>\n",
       "      <th>Order Date</th>\n",
       "      <th>Purchase Address</th>\n",
       "    </tr>\n",
       "  </thead>\n",
       "  <tbody>\n",
       "    <tr>\n",
       "      <th>373695</th>\n",
       "      <td>259353.0</td>\n",
       "      <td>AAA Batteries (4-pack)</td>\n",
       "      <td>3.0</td>\n",
       "      <td>2.99</td>\n",
       "      <td>2019-09-17 20:56:00</td>\n",
       "      <td>840 Highland St, Los Angeles, CA 90001</td>\n",
       "    </tr>\n",
       "    <tr>\n",
       "      <th>373696</th>\n",
       "      <td>259354.0</td>\n",
       "      <td>iPhone</td>\n",
       "      <td>1.0</td>\n",
       "      <td>700.0</td>\n",
       "      <td>2019-09-01 16:00:00</td>\n",
       "      <td>216 Dogwood St, San Francisco, CA 94016</td>\n",
       "    </tr>\n",
       "    <tr>\n",
       "      <th>373697</th>\n",
       "      <td>259355.0</td>\n",
       "      <td>iPhone</td>\n",
       "      <td>1.0</td>\n",
       "      <td>700.0</td>\n",
       "      <td>2019-09-23 07:39:00</td>\n",
       "      <td>220 12th St, San Francisco, CA 94016</td>\n",
       "    </tr>\n",
       "    <tr>\n",
       "      <th>373698</th>\n",
       "      <td>259356.0</td>\n",
       "      <td>34in Ultrawide Monitor</td>\n",
       "      <td>1.0</td>\n",
       "      <td>379.99</td>\n",
       "      <td>2019-09-19 17:30:00</td>\n",
       "      <td>511 Forest St, San Francisco, CA 94016</td>\n",
       "    </tr>\n",
       "    <tr>\n",
       "      <th>373699</th>\n",
       "      <td>259357.0</td>\n",
       "      <td>USB-C Charging Cable</td>\n",
       "      <td>1.0</td>\n",
       "      <td>11.95</td>\n",
       "      <td>2019-09-30 00:18:00</td>\n",
       "      <td>250 Meadow St, San Francisco, CA 94016</td>\n",
       "    </tr>\n",
       "  </tbody>\n",
       "</table>\n",
       "</div>"
      ],
      "text/plain": [
       "        Order ID                 Product Quantity Ordered Price Each  \\\n",
       "373695  259353.0  AAA Batteries (4-pack)              3.0       2.99   \n",
       "373696  259354.0                  iPhone              1.0      700.0   \n",
       "373697  259355.0                  iPhone              1.0      700.0   \n",
       "373698  259356.0  34in Ultrawide Monitor              1.0     379.99   \n",
       "373699  259357.0    USB-C Charging Cable              1.0      11.95   \n",
       "\n",
       "                 Order Date                         Purchase Address  \n",
       "373695  2019-09-17 20:56:00   840 Highland St, Los Angeles, CA 90001  \n",
       "373696  2019-09-01 16:00:00  216 Dogwood St, San Francisco, CA 94016  \n",
       "373697  2019-09-23 07:39:00     220 12th St, San Francisco, CA 94016  \n",
       "373698  2019-09-19 17:30:00   511 Forest St, San Francisco, CA 94016  \n",
       "373699  2019-09-30 00:18:00   250 Meadow St, San Francisco, CA 94016  "
      ]
     },
     "execution_count": 99,
     "metadata": {},
     "output_type": "execute_result"
    }
   ],
   "source": [
    "# To See Last Five rows of Dataset\n",
    "data.tail()"
   ]
  },
  {
   "cell_type": "markdown",
   "id": "c655b751",
   "metadata": {},
   "source": [
    "* Here i used the tail() function i want to see Last five observations of the Dataset.Because i want to Understand how Data is distributed at the Ending of Table."
   ]
  },
  {
   "cell_type": "code",
   "execution_count": 100,
   "id": "28296a75",
   "metadata": {},
   "outputs": [
    {
     "data": {
      "text/plain": [
       "(373700, 6)"
      ]
     },
     "execution_count": 100,
     "metadata": {},
     "output_type": "execute_result"
    }
   ],
   "source": [
    "# To see Shape of Dataset\n",
    "data.shape"
   ]
  },
  {
   "cell_type": "markdown",
   "id": "ed329147",
   "metadata": {},
   "source": [
    "* Here i used df.shape function and it gives me a tuple i.e. (no.of row, no. of column).using this function i can easily see how many rows and columns in given dataset.and in our Dataset there is 373700 obsevations and 6 coulumns."
   ]
  },
  {
   "cell_type": "code",
   "execution_count": 101,
   "id": "81a34575",
   "metadata": {},
   "outputs": [
    {
     "data": {
      "text/plain": [
       "Index(['Order ID', 'Product', 'Quantity Ordered', 'Price Each', 'Order Date',\n",
       "       'Purchase Address'],\n",
       "      dtype='object')"
      ]
     },
     "execution_count": 101,
     "metadata": {},
     "output_type": "execute_result"
    }
   ],
   "source": [
    "# Columns present in the dataset\n",
    "data.columns"
   ]
  },
  {
   "cell_type": "code",
   "execution_count": 102,
   "id": "c6790f68",
   "metadata": {},
   "outputs": [
    {
     "data": {
      "text/plain": [
       "Order ID            178438\n",
       "Product                 20\n",
       "Quantity Ordered        10\n",
       "Price Each              18\n",
       "Order Date          142396\n",
       "Purchase Address    140788\n",
       "dtype: int64"
      ]
     },
     "execution_count": 102,
     "metadata": {},
     "output_type": "execute_result"
    }
   ],
   "source": [
    "# To see unique value in each column\n",
    "data.nunique()"
   ]
  },
  {
   "cell_type": "code",
   "execution_count": 103,
   "id": "1a7005d7",
   "metadata": {},
   "outputs": [
    {
     "name": "stdout",
     "output_type": "stream",
     "text": [
      "<class 'pandas.core.frame.DataFrame'>\n",
      "RangeIndex: 373700 entries, 0 to 373699\n",
      "Data columns (total 6 columns):\n",
      " #   Column            Non-Null Count   Dtype \n",
      "---  ------            --------------   ----- \n",
      " 0   Order ID          372610 non-null  object\n",
      " 1   Product           372610 non-null  object\n",
      " 2   Quantity Ordered  372610 non-null  object\n",
      " 3   Price Each        372610 non-null  object\n",
      " 4   Order Date        372610 non-null  object\n",
      " 5   Purchase Address  372610 non-null  object\n",
      "dtypes: object(6)\n",
      "memory usage: 17.1+ MB\n"
     ]
    }
   ],
   "source": [
    "data.info()"
   ]
  },
  {
   "cell_type": "markdown",
   "id": "2952ab5a",
   "metadata": {},
   "source": [
    "* Here i can clearly see python reads all Data types as object but from given feaures Quantity ordered,Price each,order id and order date  should be Numerical."
   ]
  },
  {
   "cell_type": "code",
   "execution_count": 104,
   "id": "c01b44ad",
   "metadata": {},
   "outputs": [],
   "source": [
    "data = data.drop(['Order ID'], axis = 1)"
   ]
  },
  {
   "cell_type": "markdown",
   "id": "3c686e4f",
   "metadata": {},
   "source": [
    "* Here i used the drop function because i want delete order id column.Because order id is different for every product."
   ]
  },
  {
   "cell_type": "code",
   "execution_count": 105,
   "id": "ef5b7c28",
   "metadata": {},
   "outputs": [],
   "source": [
    "data['Quantity Ordered']=pd.to_numeric(data['Quantity Ordered'],errors='coerce')\n",
    "data['Price Each']=pd.to_numeric(data['Price Each'],errors='coerce')"
   ]
  },
  {
   "cell_type": "code",
   "execution_count": 106,
   "id": "88e63e11",
   "metadata": {},
   "outputs": [],
   "source": [
    "data['Order Date']=pd.to_datetime(data['Order Date'],errors='coerce')"
   ]
  },
  {
   "cell_type": "code",
   "execution_count": 107,
   "id": "c5787fe4",
   "metadata": {},
   "outputs": [
    {
     "data": {
      "text/html": [
       "<div>\n",
       "<style scoped>\n",
       "    .dataframe tbody tr th:only-of-type {\n",
       "        vertical-align: middle;\n",
       "    }\n",
       "\n",
       "    .dataframe tbody tr th {\n",
       "        vertical-align: top;\n",
       "    }\n",
       "\n",
       "    .dataframe thead th {\n",
       "        text-align: right;\n",
       "    }\n",
       "</style>\n",
       "<table border=\"1\" class=\"dataframe\">\n",
       "  <thead>\n",
       "    <tr style=\"text-align: right;\">\n",
       "      <th></th>\n",
       "      <th>Product</th>\n",
       "      <th>Quantity Ordered</th>\n",
       "      <th>Price Each</th>\n",
       "      <th>Order Date</th>\n",
       "      <th>Purchase Address</th>\n",
       "    </tr>\n",
       "  </thead>\n",
       "  <tbody>\n",
       "    <tr>\n",
       "      <th>0</th>\n",
       "      <td>iPhone</td>\n",
       "      <td>1.0</td>\n",
       "      <td>700.00</td>\n",
       "      <td>2019-01-22 21:25:00</td>\n",
       "      <td>944 Walnut St, Boston, MA 02215</td>\n",
       "    </tr>\n",
       "    <tr>\n",
       "      <th>1</th>\n",
       "      <td>Lightning Charging Cable</td>\n",
       "      <td>1.0</td>\n",
       "      <td>14.95</td>\n",
       "      <td>2019-01-28 14:15:00</td>\n",
       "      <td>185 Maple St, Portland, OR 97035</td>\n",
       "    </tr>\n",
       "    <tr>\n",
       "      <th>2</th>\n",
       "      <td>Wired Headphones</td>\n",
       "      <td>2.0</td>\n",
       "      <td>11.99</td>\n",
       "      <td>2019-01-17 13:33:00</td>\n",
       "      <td>538 Adams St, San Francisco, CA 94016</td>\n",
       "    </tr>\n",
       "    <tr>\n",
       "      <th>3</th>\n",
       "      <td>27in FHD Monitor</td>\n",
       "      <td>1.0</td>\n",
       "      <td>149.99</td>\n",
       "      <td>2019-01-05 20:33:00</td>\n",
       "      <td>738 10th St, Los Angeles, CA 90001</td>\n",
       "    </tr>\n",
       "    <tr>\n",
       "      <th>4</th>\n",
       "      <td>Wired Headphones</td>\n",
       "      <td>1.0</td>\n",
       "      <td>11.99</td>\n",
       "      <td>2019-01-25 11:59:00</td>\n",
       "      <td>387 10th St, Austin, TX 73301</td>\n",
       "    </tr>\n",
       "  </tbody>\n",
       "</table>\n",
       "</div>"
      ],
      "text/plain": [
       "                    Product  Quantity Ordered  Price Each          Order Date  \\\n",
       "0                    iPhone               1.0      700.00 2019-01-22 21:25:00   \n",
       "1  Lightning Charging Cable               1.0       14.95 2019-01-28 14:15:00   \n",
       "2          Wired Headphones               2.0       11.99 2019-01-17 13:33:00   \n",
       "3          27in FHD Monitor               1.0      149.99 2019-01-05 20:33:00   \n",
       "4          Wired Headphones               1.0       11.99 2019-01-25 11:59:00   \n",
       "\n",
       "                        Purchase Address  \n",
       "0        944 Walnut St, Boston, MA 02215  \n",
       "1       185 Maple St, Portland, OR 97035  \n",
       "2  538 Adams St, San Francisco, CA 94016  \n",
       "3     738 10th St, Los Angeles, CA 90001  \n",
       "4          387 10th St, Austin, TX 73301  "
      ]
     },
     "execution_count": 107,
     "metadata": {},
     "output_type": "execute_result"
    }
   ],
   "source": [
    "data.head()"
   ]
  },
  {
   "cell_type": "markdown",
   "id": "7f2227e5",
   "metadata": {},
   "source": [
    "* Here i converted Quantity Ordered,Price Each,Order Date into numeric."
   ]
  },
  {
   "cell_type": "code",
   "execution_count": 108,
   "id": "9883c74a",
   "metadata": {},
   "outputs": [
    {
     "name": "stdout",
     "output_type": "stream",
     "text": [
      "<class 'pandas.core.frame.DataFrame'>\n",
      "RangeIndex: 373700 entries, 0 to 373699\n",
      "Data columns (total 5 columns):\n",
      " #   Column            Non-Null Count   Dtype         \n",
      "---  ------            --------------   -----         \n",
      " 0   Product           372610 non-null  object        \n",
      " 1   Quantity Ordered  371900 non-null  float64       \n",
      " 2   Price Each        371900 non-null  float64       \n",
      " 3   Order Date        371900 non-null  datetime64[ns]\n",
      " 4   Purchase Address  372610 non-null  object        \n",
      "dtypes: datetime64[ns](1), float64(2), object(2)\n",
      "memory usage: 14.3+ MB\n"
     ]
    }
   ],
   "source": [
    "data.info()"
   ]
  },
  {
   "cell_type": "code",
   "execution_count": 109,
   "id": "89d91d91",
   "metadata": {},
   "outputs": [
    {
     "data": {
      "text/html": [
       "<div>\n",
       "<style scoped>\n",
       "    .dataframe tbody tr th:only-of-type {\n",
       "        vertical-align: middle;\n",
       "    }\n",
       "\n",
       "    .dataframe tbody tr th {\n",
       "        vertical-align: top;\n",
       "    }\n",
       "\n",
       "    .dataframe thead th {\n",
       "        text-align: right;\n",
       "    }\n",
       "</style>\n",
       "<table border=\"1\" class=\"dataframe\">\n",
       "  <thead>\n",
       "    <tr style=\"text-align: right;\">\n",
       "      <th></th>\n",
       "      <th>Product</th>\n",
       "      <th>Quantity_Ordered</th>\n",
       "      <th>Price_Each</th>\n",
       "      <th>Order_Date</th>\n",
       "      <th>Purchase_Address</th>\n",
       "    </tr>\n",
       "  </thead>\n",
       "  <tbody>\n",
       "    <tr>\n",
       "      <th>0</th>\n",
       "      <td>iPhone</td>\n",
       "      <td>1.0</td>\n",
       "      <td>700.00</td>\n",
       "      <td>2019-01-22 21:25:00</td>\n",
       "      <td>944 Walnut St, Boston, MA 02215</td>\n",
       "    </tr>\n",
       "    <tr>\n",
       "      <th>1</th>\n",
       "      <td>Lightning Charging Cable</td>\n",
       "      <td>1.0</td>\n",
       "      <td>14.95</td>\n",
       "      <td>2019-01-28 14:15:00</td>\n",
       "      <td>185 Maple St, Portland, OR 97035</td>\n",
       "    </tr>\n",
       "    <tr>\n",
       "      <th>2</th>\n",
       "      <td>Wired Headphones</td>\n",
       "      <td>2.0</td>\n",
       "      <td>11.99</td>\n",
       "      <td>2019-01-17 13:33:00</td>\n",
       "      <td>538 Adams St, San Francisco, CA 94016</td>\n",
       "    </tr>\n",
       "    <tr>\n",
       "      <th>3</th>\n",
       "      <td>27in FHD Monitor</td>\n",
       "      <td>1.0</td>\n",
       "      <td>149.99</td>\n",
       "      <td>2019-01-05 20:33:00</td>\n",
       "      <td>738 10th St, Los Angeles, CA 90001</td>\n",
       "    </tr>\n",
       "    <tr>\n",
       "      <th>4</th>\n",
       "      <td>Wired Headphones</td>\n",
       "      <td>1.0</td>\n",
       "      <td>11.99</td>\n",
       "      <td>2019-01-25 11:59:00</td>\n",
       "      <td>387 10th St, Austin, TX 73301</td>\n",
       "    </tr>\n",
       "    <tr>\n",
       "      <th>...</th>\n",
       "      <td>...</td>\n",
       "      <td>...</td>\n",
       "      <td>...</td>\n",
       "      <td>...</td>\n",
       "      <td>...</td>\n",
       "    </tr>\n",
       "    <tr>\n",
       "      <th>373695</th>\n",
       "      <td>AAA Batteries (4-pack)</td>\n",
       "      <td>3.0</td>\n",
       "      <td>2.99</td>\n",
       "      <td>2019-09-17 20:56:00</td>\n",
       "      <td>840 Highland St, Los Angeles, CA 90001</td>\n",
       "    </tr>\n",
       "    <tr>\n",
       "      <th>373696</th>\n",
       "      <td>iPhone</td>\n",
       "      <td>1.0</td>\n",
       "      <td>700.00</td>\n",
       "      <td>2019-09-01 16:00:00</td>\n",
       "      <td>216 Dogwood St, San Francisco, CA 94016</td>\n",
       "    </tr>\n",
       "    <tr>\n",
       "      <th>373697</th>\n",
       "      <td>iPhone</td>\n",
       "      <td>1.0</td>\n",
       "      <td>700.00</td>\n",
       "      <td>2019-09-23 07:39:00</td>\n",
       "      <td>220 12th St, San Francisco, CA 94016</td>\n",
       "    </tr>\n",
       "    <tr>\n",
       "      <th>373698</th>\n",
       "      <td>34in Ultrawide Monitor</td>\n",
       "      <td>1.0</td>\n",
       "      <td>379.99</td>\n",
       "      <td>2019-09-19 17:30:00</td>\n",
       "      <td>511 Forest St, San Francisco, CA 94016</td>\n",
       "    </tr>\n",
       "    <tr>\n",
       "      <th>373699</th>\n",
       "      <td>USB-C Charging Cable</td>\n",
       "      <td>1.0</td>\n",
       "      <td>11.95</td>\n",
       "      <td>2019-09-30 00:18:00</td>\n",
       "      <td>250 Meadow St, San Francisco, CA 94016</td>\n",
       "    </tr>\n",
       "  </tbody>\n",
       "</table>\n",
       "<p>373700 rows × 5 columns</p>\n",
       "</div>"
      ],
      "text/plain": [
       "                         Product  Quantity_Ordered  Price_Each  \\\n",
       "0                         iPhone               1.0      700.00   \n",
       "1       Lightning Charging Cable               1.0       14.95   \n",
       "2               Wired Headphones               2.0       11.99   \n",
       "3               27in FHD Monitor               1.0      149.99   \n",
       "4               Wired Headphones               1.0       11.99   \n",
       "...                          ...               ...         ...   \n",
       "373695    AAA Batteries (4-pack)               3.0        2.99   \n",
       "373696                    iPhone               1.0      700.00   \n",
       "373697                    iPhone               1.0      700.00   \n",
       "373698    34in Ultrawide Monitor               1.0      379.99   \n",
       "373699      USB-C Charging Cable               1.0       11.95   \n",
       "\n",
       "                Order_Date                         Purchase_Address  \n",
       "0      2019-01-22 21:25:00          944 Walnut St, Boston, MA 02215  \n",
       "1      2019-01-28 14:15:00         185 Maple St, Portland, OR 97035  \n",
       "2      2019-01-17 13:33:00    538 Adams St, San Francisco, CA 94016  \n",
       "3      2019-01-05 20:33:00       738 10th St, Los Angeles, CA 90001  \n",
       "4      2019-01-25 11:59:00            387 10th St, Austin, TX 73301  \n",
       "...                    ...                                      ...  \n",
       "373695 2019-09-17 20:56:00   840 Highland St, Los Angeles, CA 90001  \n",
       "373696 2019-09-01 16:00:00  216 Dogwood St, San Francisco, CA 94016  \n",
       "373697 2019-09-23 07:39:00     220 12th St, San Francisco, CA 94016  \n",
       "373698 2019-09-19 17:30:00   511 Forest St, San Francisco, CA 94016  \n",
       "373699 2019-09-30 00:18:00   250 Meadow St, San Francisco, CA 94016  \n",
       "\n",
       "[373700 rows x 5 columns]"
      ]
     },
     "execution_count": 109,
     "metadata": {},
     "output_type": "execute_result"
    }
   ],
   "source": [
    "data = data.rename(columns = {'Quantity Ordered':'Quantity_Ordered','Price Each':'Price_Each','Order Date':'Order_Date','Purchase Address':'Purchase_Address'})\n",
    "data"
   ]
  },
  {
   "cell_type": "markdown",
   "id": "8b57d643",
   "metadata": {},
   "source": [
    "* Here i used the .rename function to chnage the column name because the colums 'Quantity orderd', 'price each','order date' and 'purchase address'having space between two words.its can create some error in our visulization.to avoid it i just remove the space between words."
   ]
  },
  {
   "cell_type": "markdown",
   "id": "0acabf3a",
   "metadata": {},
   "source": [
    "### Analyzing the amount of missing data"
   ]
  },
  {
   "cell_type": "code",
   "execution_count": 110,
   "id": "032180d2",
   "metadata": {},
   "outputs": [
    {
     "data": {
      "text/html": [
       "<div>\n",
       "<style scoped>\n",
       "    .dataframe tbody tr th:only-of-type {\n",
       "        vertical-align: middle;\n",
       "    }\n",
       "\n",
       "    .dataframe tbody tr th {\n",
       "        vertical-align: top;\n",
       "    }\n",
       "\n",
       "    .dataframe thead th {\n",
       "        text-align: right;\n",
       "    }\n",
       "</style>\n",
       "<table border=\"1\" class=\"dataframe\">\n",
       "  <thead>\n",
       "    <tr style=\"text-align: right;\">\n",
       "      <th></th>\n",
       "      <th>Product</th>\n",
       "      <th>Quantity_Ordered</th>\n",
       "      <th>Price_Each</th>\n",
       "      <th>Order_Date</th>\n",
       "      <th>Purchase_Address</th>\n",
       "    </tr>\n",
       "  </thead>\n",
       "  <tbody>\n",
       "    <tr>\n",
       "      <th>0</th>\n",
       "      <td>False</td>\n",
       "      <td>False</td>\n",
       "      <td>False</td>\n",
       "      <td>False</td>\n",
       "      <td>False</td>\n",
       "    </tr>\n",
       "    <tr>\n",
       "      <th>1</th>\n",
       "      <td>False</td>\n",
       "      <td>False</td>\n",
       "      <td>False</td>\n",
       "      <td>False</td>\n",
       "      <td>False</td>\n",
       "    </tr>\n",
       "    <tr>\n",
       "      <th>2</th>\n",
       "      <td>False</td>\n",
       "      <td>False</td>\n",
       "      <td>False</td>\n",
       "      <td>False</td>\n",
       "      <td>False</td>\n",
       "    </tr>\n",
       "    <tr>\n",
       "      <th>3</th>\n",
       "      <td>False</td>\n",
       "      <td>False</td>\n",
       "      <td>False</td>\n",
       "      <td>False</td>\n",
       "      <td>False</td>\n",
       "    </tr>\n",
       "    <tr>\n",
       "      <th>4</th>\n",
       "      <td>False</td>\n",
       "      <td>False</td>\n",
       "      <td>False</td>\n",
       "      <td>False</td>\n",
       "      <td>False</td>\n",
       "    </tr>\n",
       "    <tr>\n",
       "      <th>...</th>\n",
       "      <td>...</td>\n",
       "      <td>...</td>\n",
       "      <td>...</td>\n",
       "      <td>...</td>\n",
       "      <td>...</td>\n",
       "    </tr>\n",
       "    <tr>\n",
       "      <th>373695</th>\n",
       "      <td>False</td>\n",
       "      <td>False</td>\n",
       "      <td>False</td>\n",
       "      <td>False</td>\n",
       "      <td>False</td>\n",
       "    </tr>\n",
       "    <tr>\n",
       "      <th>373696</th>\n",
       "      <td>False</td>\n",
       "      <td>False</td>\n",
       "      <td>False</td>\n",
       "      <td>False</td>\n",
       "      <td>False</td>\n",
       "    </tr>\n",
       "    <tr>\n",
       "      <th>373697</th>\n",
       "      <td>False</td>\n",
       "      <td>False</td>\n",
       "      <td>False</td>\n",
       "      <td>False</td>\n",
       "      <td>False</td>\n",
       "    </tr>\n",
       "    <tr>\n",
       "      <th>373698</th>\n",
       "      <td>False</td>\n",
       "      <td>False</td>\n",
       "      <td>False</td>\n",
       "      <td>False</td>\n",
       "      <td>False</td>\n",
       "    </tr>\n",
       "    <tr>\n",
       "      <th>373699</th>\n",
       "      <td>False</td>\n",
       "      <td>False</td>\n",
       "      <td>False</td>\n",
       "      <td>False</td>\n",
       "      <td>False</td>\n",
       "    </tr>\n",
       "  </tbody>\n",
       "</table>\n",
       "<p>373700 rows × 5 columns</p>\n",
       "</div>"
      ],
      "text/plain": [
       "        Product  Quantity_Ordered  Price_Each  Order_Date  Purchase_Address\n",
       "0         False             False       False       False             False\n",
       "1         False             False       False       False             False\n",
       "2         False             False       False       False             False\n",
       "3         False             False       False       False             False\n",
       "4         False             False       False       False             False\n",
       "...         ...               ...         ...         ...               ...\n",
       "373695    False             False       False       False             False\n",
       "373696    False             False       False       False             False\n",
       "373697    False             False       False       False             False\n",
       "373698    False             False       False       False             False\n",
       "373699    False             False       False       False             False\n",
       "\n",
       "[373700 rows x 5 columns]"
      ]
     },
     "execution_count": 110,
     "metadata": {},
     "output_type": "execute_result"
    }
   ],
   "source": [
    "# Nulity Dataframe\n",
    "data_missing = data.isnull()\n",
    "data_missing"
   ]
  },
  {
   "cell_type": "markdown",
   "id": "ba21c9c3",
   "metadata": {},
   "source": [
    "* Here i used the isna function to check there is any missing value or not.True means there is null Value And False means there is no null Values."
   ]
  },
  {
   "cell_type": "code",
   "execution_count": 111,
   "id": "7dd74796",
   "metadata": {},
   "outputs": [
    {
     "data": {
      "text/plain": [
       "Product             1090\n",
       "Quantity_Ordered    1800\n",
       "Price_Each          1800\n",
       "Order_Date          1800\n",
       "Purchase_Address    1090\n",
       "dtype: int64"
      ]
     },
     "execution_count": 111,
     "metadata": {},
     "output_type": "execute_result"
    }
   ],
   "source": [
    "# Toatal mising Values\n",
    "A = data_missing.sum()\n",
    "A"
   ]
  },
  {
   "cell_type": "code",
   "execution_count": 112,
   "id": "46082993",
   "metadata": {},
   "outputs": [
    {
     "data": {
      "text/plain": [
       "Product             0.291678\n",
       "Quantity_Ordered    0.481670\n",
       "Price_Each          0.481670\n",
       "Order_Date          0.481670\n",
       "Purchase_Address    0.291678\n",
       "dtype: float64"
      ]
     },
     "execution_count": 112,
     "metadata": {},
     "output_type": "execute_result"
    }
   ],
   "source": [
    "data_missing.mean() * 100"
   ]
  },
  {
   "cell_type": "code",
   "execution_count": 113,
   "id": "e17b7f41",
   "metadata": {},
   "outputs": [
    {
     "data": {
      "text/plain": [
       "<AxesSubplot:>"
      ]
     },
     "execution_count": 113,
     "metadata": {},
     "output_type": "execute_result"
    },
    {
     "data": {
      "image/png": "[encoded data removed]",
      "text/plain": [
       "<Figure size 1728x720 with 3 Axes>"
      ]
     },
     "metadata": {
      "needs_background": "light"
     },
     "output_type": "display_data"
    }
   ],
   "source": [
    "msno.bar(data)"
   ]
  },
  {
   "cell_type": "markdown",
   "id": "f494f9f5",
   "metadata": {},
   "source": [
    "* Here  i can easily see 0.48 % highest missing data its very less amount so i decide to remove it."
   ]
  },
  {
   "cell_type": "code",
   "execution_count": 114,
   "id": "b1357256",
   "metadata": {},
   "outputs": [
    {
     "data": {
      "text/plain": [
       "<AxesSubplot:>"
      ]
     },
     "execution_count": 114,
     "metadata": {},
     "output_type": "execute_result"
    },
    {
     "data": {
      "image/png": "[encoded data removed]",
      "text/plain": [
       "<Figure size 1800x720 with 2 Axes>"
      ]
     },
     "metadata": {
      "needs_background": "light"
     },
     "output_type": "display_data"
    }
   ],
   "source": [
    "# Creating matrix plot to see the pattern in missing values\n",
    "msno.matrix(data)"
   ]
  },
  {
   "cell_type": "code",
   "execution_count": 115,
   "id": "687399c3",
   "metadata": {},
   "outputs": [
    {
     "data": {
      "text/plain": [
       "array(['iPhone', 'Lightning Charging Cable', 'Wired Headphones',\n",
       "       '27in FHD Monitor', 'AAA Batteries (4-pack)',\n",
       "       '27in 4K Gaming Monitor', 'USB-C Charging Cable',\n",
       "       'Bose SoundSport Headphones', 'Apple Airpods Headphones',\n",
       "       'Macbook Pro Laptop', 'Flatscreen TV', 'Vareebadd Phone',\n",
       "       'AA Batteries (4-pack)', 'Google Phone', '20in Monitor',\n",
       "       '34in Ultrawide Monitor', 'ThinkPad Laptop', 'LG Dryer',\n",
       "       'LG Washing Machine', nan, 'Product'], dtype=object)"
      ]
     },
     "execution_count": 115,
     "metadata": {},
     "output_type": "execute_result"
    }
   ],
   "source": [
    "data.Product.unique()"
   ]
  },
  {
   "cell_type": "code",
   "execution_count": 116,
   "id": "6e08cad6",
   "metadata": {},
   "outputs": [
    {
     "data": {
      "text/plain": [
       "array([ 700.  ,   14.95,   11.99,  149.99,    2.99,  389.99,   11.95,\n",
       "         99.99,  150.  , 1700.  ,  300.  ,  400.  ,    3.84,  600.  ,\n",
       "        109.99,  379.99,  999.99,     nan])"
      ]
     },
     "execution_count": 116,
     "metadata": {},
     "output_type": "execute_result"
    }
   ],
   "source": [
    "data.Price_Each.unique()"
   ]
  },
  {
   "cell_type": "code",
   "execution_count": 117,
   "id": "cc3617fe",
   "metadata": {},
   "outputs": [
    {
     "data": {
      "text/plain": [
       "array([ 1.,  2.,  3.,  5.,  4., nan,  7.,  6.,  9.,  8.])"
      ]
     },
     "execution_count": 117,
     "metadata": {},
     "output_type": "execute_result"
    }
   ],
   "source": [
    "data.Quantity_Ordered.unique()"
   ]
  },
  {
   "cell_type": "code",
   "execution_count": 118,
   "id": "a5cf17f0",
   "metadata": {},
   "outputs": [
    {
     "data": {
      "text/plain": [
       "array(['2019-01-22T21:25:00.000000000', '2019-01-28T14:15:00.000000000',\n",
       "       '2019-01-17T13:33:00.000000000', ...,\n",
       "       '2019-12-01T12:01:00.000000000', '2019-12-09T06:43:00.000000000',\n",
       "       '2019-12-03T10:39:00.000000000'], dtype='datetime64[ns]')"
      ]
     },
     "execution_count": 118,
     "metadata": {},
     "output_type": "execute_result"
    }
   ],
   "source": [
    "data.Order_Date.unique()"
   ]
  },
  {
   "cell_type": "code",
   "execution_count": 119,
   "id": "ed72e70d",
   "metadata": {},
   "outputs": [
    {
     "data": {
      "text/plain": [
       "array(['944 Walnut St, Boston, MA 02215',\n",
       "       '185 Maple St, Portland, OR 97035',\n",
       "       '538 Adams St, San Francisco, CA 94016', ...,\n",
       "       '273 Wilson St, Seattle, WA 98101',\n",
       "       '778 River St, Dallas, TX 75001',\n",
       "       '747 Chestnut St, Los Angeles, CA 90001'], dtype=object)"
      ]
     },
     "execution_count": 119,
     "metadata": {},
     "output_type": "execute_result"
    }
   ],
   "source": [
    "data.Purchase_Address.unique()"
   ]
  },
  {
   "cell_type": "code",
   "execution_count": 120,
   "id": "108ac90c",
   "metadata": {},
   "outputs": [],
   "source": [
    "data1 = data.dropna() "
   ]
  },
  {
   "cell_type": "markdown",
   "id": "b268e928",
   "metadata": {},
   "source": [
    "* Here i used the dropna function to remove missing values."
   ]
  },
  {
   "cell_type": "code",
   "execution_count": 121,
   "id": "d66403f3",
   "metadata": {},
   "outputs": [],
   "source": [
    "data1_missing = data1.isnull()"
   ]
  },
  {
   "cell_type": "code",
   "execution_count": 122,
   "id": "a57912fb",
   "metadata": {},
   "outputs": [
    {
     "data": {
      "text/plain": [
       "Product             0\n",
       "Quantity_Ordered    0\n",
       "Price_Each          0\n",
       "Order_Date          0\n",
       "Purchase_Address    0\n",
       "dtype: int64"
      ]
     },
     "execution_count": 122,
     "metadata": {},
     "output_type": "execute_result"
    }
   ],
   "source": [
    "data1_missing.sum()"
   ]
  },
  {
   "cell_type": "markdown",
   "id": "4daceb71",
   "metadata": {},
   "source": [
    "* Here i just check i removed misssing values successfully or not."
   ]
  },
  {
   "cell_type": "code",
   "execution_count": 123,
   "id": "fa14f457",
   "metadata": {},
   "outputs": [
    {
     "name": "stderr",
     "output_type": "stream",
     "text": [
      "C:\\Users\\DELL\\AppData\\Local\\Temp/ipykernel_13196/594503239.py:1: SettingWithCopyWarning: \n",
      "A value is trying to be set on a copy of a slice from a DataFrame.\n",
      "Try using .loc[row_indexer,col_indexer] = value instead\n",
      "\n",
      "See the caveats in the documentation: https://pandas.pydata.org/pandas-docs/stable/user_guide/indexing.html#returning-a-view-versus-a-copy\n",
      "  data1['month'] = pd.DatetimeIndex(data1['Order_Date']).month\n"
     ]
    }
   ],
   "source": [
    "data1['month'] = pd.DatetimeIndex(data1['Order_Date']).month"
   ]
  },
  {
   "cell_type": "markdown",
   "id": "7e654cf2",
   "metadata": {},
   "source": [
    "* using above code i add new column month for my Exploratory Data Analysis using month only."
   ]
  },
  {
   "cell_type": "code",
   "execution_count": 125,
   "id": "b484f93e",
   "metadata": {},
   "outputs": [
    {
     "name": "stderr",
     "output_type": "stream",
     "text": [
      "C:\\Users\\DELL\\AppData\\Local\\Temp/ipykernel_13196/3413348914.py:1: SettingWithCopyWarning: \n",
      "A value is trying to be set on a copy of a slice from a DataFrame.\n",
      "Try using .loc[row_indexer,col_indexer] = value instead\n",
      "\n",
      "See the caveats in the documentation: https://pandas.pydata.org/pandas-docs/stable/user_guide/indexing.html#returning-a-view-versus-a-copy\n",
      "  data1['city'] = [x.split(',')[1] for x in data1['Purchase_Address'].values]\n"
     ]
    }
   ],
   "source": [
    "data1['city'] = [x.split(',')[1] for x in data1['Purchase_Address'].values]"
   ]
  },
  {
   "cell_type": "markdown",
   "id": "6aaf6da6",
   "metadata": {},
   "source": [
    "* using above code i got City column from Purchase Address column for my Exploratory Data Analysis using month only."
   ]
  },
  {
   "cell_type": "code",
   "execution_count": 158,
   "id": "fe6850c4",
   "metadata": {},
   "outputs": [
    {
     "data": {
      "text/html": [
       "<div>\n",
       "<style scoped>\n",
       "    .dataframe tbody tr th:only-of-type {\n",
       "        vertical-align: middle;\n",
       "    }\n",
       "\n",
       "    .dataframe tbody tr th {\n",
       "        vertical-align: top;\n",
       "    }\n",
       "\n",
       "    .dataframe thead th {\n",
       "        text-align: right;\n",
       "    }\n",
       "</style>\n",
       "<table border=\"1\" class=\"dataframe\">\n",
       "  <thead>\n",
       "    <tr style=\"text-align: right;\">\n",
       "      <th></th>\n",
       "      <th>Product</th>\n",
       "      <th>Quantity_Ordered</th>\n",
       "      <th>Price_Each</th>\n",
       "      <th>Order_Date</th>\n",
       "      <th>Purchase_Address</th>\n",
       "      <th>month</th>\n",
       "      <th>city</th>\n",
       "    </tr>\n",
       "  </thead>\n",
       "  <tbody>\n",
       "    <tr>\n",
       "      <th>0</th>\n",
       "      <td>iPhone</td>\n",
       "      <td>1.0</td>\n",
       "      <td>700.00</td>\n",
       "      <td>2019-01-22 21:25:00</td>\n",
       "      <td>944 Walnut St, Boston, MA 02215</td>\n",
       "      <td>1</td>\n",
       "      <td>Boston</td>\n",
       "    </tr>\n",
       "    <tr>\n",
       "      <th>1</th>\n",
       "      <td>Lightning Charging Cable</td>\n",
       "      <td>1.0</td>\n",
       "      <td>14.95</td>\n",
       "      <td>2019-01-28 14:15:00</td>\n",
       "      <td>185 Maple St, Portland, OR 97035</td>\n",
       "      <td>1</td>\n",
       "      <td>Portland</td>\n",
       "    </tr>\n",
       "    <tr>\n",
       "      <th>2</th>\n",
       "      <td>Wired Headphones</td>\n",
       "      <td>2.0</td>\n",
       "      <td>11.99</td>\n",
       "      <td>2019-01-17 13:33:00</td>\n",
       "      <td>538 Adams St, San Francisco, CA 94016</td>\n",
       "      <td>1</td>\n",
       "      <td>San Francisco</td>\n",
       "    </tr>\n",
       "    <tr>\n",
       "      <th>3</th>\n",
       "      <td>27in FHD Monitor</td>\n",
       "      <td>1.0</td>\n",
       "      <td>149.99</td>\n",
       "      <td>2019-01-05 20:33:00</td>\n",
       "      <td>738 10th St, Los Angeles, CA 90001</td>\n",
       "      <td>1</td>\n",
       "      <td>Los Angeles</td>\n",
       "    </tr>\n",
       "    <tr>\n",
       "      <th>4</th>\n",
       "      <td>Wired Headphones</td>\n",
       "      <td>1.0</td>\n",
       "      <td>11.99</td>\n",
       "      <td>2019-01-25 11:59:00</td>\n",
       "      <td>387 10th St, Austin, TX 73301</td>\n",
       "      <td>1</td>\n",
       "      <td>Austin</td>\n",
       "    </tr>\n",
       "    <tr>\n",
       "      <th>...</th>\n",
       "      <td>...</td>\n",
       "      <td>...</td>\n",
       "      <td>...</td>\n",
       "      <td>...</td>\n",
       "      <td>...</td>\n",
       "      <td>...</td>\n",
       "      <td>...</td>\n",
       "    </tr>\n",
       "    <tr>\n",
       "      <th>373695</th>\n",
       "      <td>AAA Batteries (4-pack)</td>\n",
       "      <td>3.0</td>\n",
       "      <td>2.99</td>\n",
       "      <td>2019-09-17 20:56:00</td>\n",
       "      <td>840 Highland St, Los Angeles, CA 90001</td>\n",
       "      <td>9</td>\n",
       "      <td>Los Angeles</td>\n",
       "    </tr>\n",
       "    <tr>\n",
       "      <th>373696</th>\n",
       "      <td>iPhone</td>\n",
       "      <td>1.0</td>\n",
       "      <td>700.00</td>\n",
       "      <td>2019-09-01 16:00:00</td>\n",
       "      <td>216 Dogwood St, San Francisco, CA 94016</td>\n",
       "      <td>9</td>\n",
       "      <td>San Francisco</td>\n",
       "    </tr>\n",
       "    <tr>\n",
       "      <th>373697</th>\n",
       "      <td>iPhone</td>\n",
       "      <td>1.0</td>\n",
       "      <td>700.00</td>\n",
       "      <td>2019-09-23 07:39:00</td>\n",
       "      <td>220 12th St, San Francisco, CA 94016</td>\n",
       "      <td>9</td>\n",
       "      <td>San Francisco</td>\n",
       "    </tr>\n",
       "    <tr>\n",
       "      <th>373698</th>\n",
       "      <td>34in Ultrawide Monitor</td>\n",
       "      <td>1.0</td>\n",
       "      <td>379.99</td>\n",
       "      <td>2019-09-19 17:30:00</td>\n",
       "      <td>511 Forest St, San Francisco, CA 94016</td>\n",
       "      <td>9</td>\n",
       "      <td>San Francisco</td>\n",
       "    </tr>\n",
       "    <tr>\n",
       "      <th>373699</th>\n",
       "      <td>USB-C Charging Cable</td>\n",
       "      <td>1.0</td>\n",
       "      <td>11.95</td>\n",
       "      <td>2019-09-30 00:18:00</td>\n",
       "      <td>250 Meadow St, San Francisco, CA 94016</td>\n",
       "      <td>9</td>\n",
       "      <td>San Francisco</td>\n",
       "    </tr>\n",
       "  </tbody>\n",
       "</table>\n",
       "<p>371900 rows × 7 columns</p>\n",
       "</div>"
      ],
      "text/plain": [
       "                         Product  Quantity_Ordered  Price_Each  \\\n",
       "0                         iPhone               1.0      700.00   \n",
       "1       Lightning Charging Cable               1.0       14.95   \n",
       "2               Wired Headphones               2.0       11.99   \n",
       "3               27in FHD Monitor               1.0      149.99   \n",
       "4               Wired Headphones               1.0       11.99   \n",
       "...                          ...               ...         ...   \n",
       "373695    AAA Batteries (4-pack)               3.0        2.99   \n",
       "373696                    iPhone               1.0      700.00   \n",
       "373697                    iPhone               1.0      700.00   \n",
       "373698    34in Ultrawide Monitor               1.0      379.99   \n",
       "373699      USB-C Charging Cable               1.0       11.95   \n",
       "\n",
       "                Order_Date                         Purchase_Address  month  \\\n",
       "0      2019-01-22 21:25:00          944 Walnut St, Boston, MA 02215      1   \n",
       "1      2019-01-28 14:15:00         185 Maple St, Portland, OR 97035      1   \n",
       "2      2019-01-17 13:33:00    538 Adams St, San Francisco, CA 94016      1   \n",
       "3      2019-01-05 20:33:00       738 10th St, Los Angeles, CA 90001      1   \n",
       "4      2019-01-25 11:59:00            387 10th St, Austin, TX 73301      1   \n",
       "...                    ...                                      ...    ...   \n",
       "373695 2019-09-17 20:56:00   840 Highland St, Los Angeles, CA 90001      9   \n",
       "373696 2019-09-01 16:00:00  216 Dogwood St, San Francisco, CA 94016      9   \n",
       "373697 2019-09-23 07:39:00     220 12th St, San Francisco, CA 94016      9   \n",
       "373698 2019-09-19 17:30:00   511 Forest St, San Francisco, CA 94016      9   \n",
       "373699 2019-09-30 00:18:00   250 Meadow St, San Francisco, CA 94016      9   \n",
       "\n",
       "                  city  \n",
       "0               Boston  \n",
       "1             Portland  \n",
       "2        San Francisco  \n",
       "3          Los Angeles  \n",
       "4               Austin  \n",
       "...                ...  \n",
       "373695     Los Angeles  \n",
       "373696   San Francisco  \n",
       "373697   San Francisco  \n",
       "373698   San Francisco  \n",
       "373699   San Francisco  \n",
       "\n",
       "[371900 rows x 7 columns]"
      ]
     },
     "execution_count": 158,
     "metadata": {},
     "output_type": "execute_result"
    }
   ],
   "source": [
    "data1"
   ]
  },
  {
   "cell_type": "markdown",
   "id": "04f53a85",
   "metadata": {},
   "source": [
    "* Here My New Dataset with coulmn city and MONth"
   ]
  },
  {
   "cell_type": "code",
   "execution_count": 159,
   "id": "b156e065",
   "metadata": {},
   "outputs": [
    {
     "data": {
      "text/html": [
       "<div>\n",
       "<style scoped>\n",
       "    .dataframe tbody tr th:only-of-type {\n",
       "        vertical-align: middle;\n",
       "    }\n",
       "\n",
       "    .dataframe tbody tr th {\n",
       "        vertical-align: top;\n",
       "    }\n",
       "\n",
       "    .dataframe thead th {\n",
       "        text-align: right;\n",
       "    }\n",
       "</style>\n",
       "<table border=\"1\" class=\"dataframe\">\n",
       "  <thead>\n",
       "    <tr style=\"text-align: right;\">\n",
       "      <th></th>\n",
       "      <th>Product</th>\n",
       "      <th>Quantity_Ordered</th>\n",
       "      <th>Price_Each</th>\n",
       "      <th>Order_Date</th>\n",
       "      <th>Purchase_Address</th>\n",
       "      <th>month</th>\n",
       "      <th>city</th>\n",
       "    </tr>\n",
       "  </thead>\n",
       "  <tbody>\n",
       "    <tr>\n",
       "      <th>0</th>\n",
       "      <td>iPhone</td>\n",
       "      <td>1.0</td>\n",
       "      <td>700.00</td>\n",
       "      <td>2019-01-22 21:25:00</td>\n",
       "      <td>944 Walnut St, Boston, MA 02215</td>\n",
       "      <td>1</td>\n",
       "      <td>Boston</td>\n",
       "    </tr>\n",
       "    <tr>\n",
       "      <th>1</th>\n",
       "      <td>Lightning Charging Cable</td>\n",
       "      <td>1.0</td>\n",
       "      <td>14.95</td>\n",
       "      <td>2019-01-28 14:15:00</td>\n",
       "      <td>185 Maple St, Portland, OR 97035</td>\n",
       "      <td>1</td>\n",
       "      <td>Portland</td>\n",
       "    </tr>\n",
       "    <tr>\n",
       "      <th>2</th>\n",
       "      <td>Wired Headphones</td>\n",
       "      <td>2.0</td>\n",
       "      <td>11.99</td>\n",
       "      <td>2019-01-17 13:33:00</td>\n",
       "      <td>538 Adams St, San Francisco, CA 94016</td>\n",
       "      <td>1</td>\n",
       "      <td>San Francisco</td>\n",
       "    </tr>\n",
       "    <tr>\n",
       "      <th>3</th>\n",
       "      <td>27in FHD Monitor</td>\n",
       "      <td>1.0</td>\n",
       "      <td>149.99</td>\n",
       "      <td>2019-01-05 20:33:00</td>\n",
       "      <td>738 10th St, Los Angeles, CA 90001</td>\n",
       "      <td>1</td>\n",
       "      <td>Los Angeles</td>\n",
       "    </tr>\n",
       "    <tr>\n",
       "      <th>4</th>\n",
       "      <td>Wired Headphones</td>\n",
       "      <td>1.0</td>\n",
       "      <td>11.99</td>\n",
       "      <td>2019-01-25 11:59:00</td>\n",
       "      <td>387 10th St, Austin, TX 73301</td>\n",
       "      <td>1</td>\n",
       "      <td>Austin</td>\n",
       "    </tr>\n",
       "  </tbody>\n",
       "</table>\n",
       "</div>"
      ],
      "text/plain": [
       "                    Product  Quantity_Ordered  Price_Each          Order_Date  \\\n",
       "0                    iPhone               1.0      700.00 2019-01-22 21:25:00   \n",
       "1  Lightning Charging Cable               1.0       14.95 2019-01-28 14:15:00   \n",
       "2          Wired Headphones               2.0       11.99 2019-01-17 13:33:00   \n",
       "3          27in FHD Monitor               1.0      149.99 2019-01-05 20:33:00   \n",
       "4          Wired Headphones               1.0       11.99 2019-01-25 11:59:00   \n",
       "\n",
       "                        Purchase_Address  month            city  \n",
       "0        944 Walnut St, Boston, MA 02215      1          Boston  \n",
       "1       185 Maple St, Portland, OR 97035      1        Portland  \n",
       "2  538 Adams St, San Francisco, CA 94016      1   San Francisco  \n",
       "3     738 10th St, Los Angeles, CA 90001      1     Los Angeles  \n",
       "4          387 10th St, Austin, TX 73301      1          Austin  "
      ]
     },
     "execution_count": 159,
     "metadata": {},
     "output_type": "execute_result"
    }
   ],
   "source": [
    "data1.head()"
   ]
  },
  {
   "cell_type": "code",
   "execution_count": 160,
   "id": "26a59d24",
   "metadata": {},
   "outputs": [
    {
     "data": {
      "text/html": [
       "<div>\n",
       "<style scoped>\n",
       "    .dataframe tbody tr th:only-of-type {\n",
       "        vertical-align: middle;\n",
       "    }\n",
       "\n",
       "    .dataframe tbody tr th {\n",
       "        vertical-align: top;\n",
       "    }\n",
       "\n",
       "    .dataframe thead th {\n",
       "        text-align: right;\n",
       "    }\n",
       "</style>\n",
       "<table border=\"1\" class=\"dataframe\">\n",
       "  <thead>\n",
       "    <tr style=\"text-align: right;\">\n",
       "      <th></th>\n",
       "      <th>Product</th>\n",
       "      <th>Quantity_Ordered</th>\n",
       "      <th>Price_Each</th>\n",
       "      <th>Order_Date</th>\n",
       "      <th>Purchase_Address</th>\n",
       "      <th>month</th>\n",
       "      <th>city</th>\n",
       "    </tr>\n",
       "  </thead>\n",
       "  <tbody>\n",
       "    <tr>\n",
       "      <th>373695</th>\n",
       "      <td>AAA Batteries (4-pack)</td>\n",
       "      <td>3.0</td>\n",
       "      <td>2.99</td>\n",
       "      <td>2019-09-17 20:56:00</td>\n",
       "      <td>840 Highland St, Los Angeles, CA 90001</td>\n",
       "      <td>9</td>\n",
       "      <td>Los Angeles</td>\n",
       "    </tr>\n",
       "    <tr>\n",
       "      <th>373696</th>\n",
       "      <td>iPhone</td>\n",
       "      <td>1.0</td>\n",
       "      <td>700.00</td>\n",
       "      <td>2019-09-01 16:00:00</td>\n",
       "      <td>216 Dogwood St, San Francisco, CA 94016</td>\n",
       "      <td>9</td>\n",
       "      <td>San Francisco</td>\n",
       "    </tr>\n",
       "    <tr>\n",
       "      <th>373697</th>\n",
       "      <td>iPhone</td>\n",
       "      <td>1.0</td>\n",
       "      <td>700.00</td>\n",
       "      <td>2019-09-23 07:39:00</td>\n",
       "      <td>220 12th St, San Francisco, CA 94016</td>\n",
       "      <td>9</td>\n",
       "      <td>San Francisco</td>\n",
       "    </tr>\n",
       "    <tr>\n",
       "      <th>373698</th>\n",
       "      <td>34in Ultrawide Monitor</td>\n",
       "      <td>1.0</td>\n",
       "      <td>379.99</td>\n",
       "      <td>2019-09-19 17:30:00</td>\n",
       "      <td>511 Forest St, San Francisco, CA 94016</td>\n",
       "      <td>9</td>\n",
       "      <td>San Francisco</td>\n",
       "    </tr>\n",
       "    <tr>\n",
       "      <th>373699</th>\n",
       "      <td>USB-C Charging Cable</td>\n",
       "      <td>1.0</td>\n",
       "      <td>11.95</td>\n",
       "      <td>2019-09-30 00:18:00</td>\n",
       "      <td>250 Meadow St, San Francisco, CA 94016</td>\n",
       "      <td>9</td>\n",
       "      <td>San Francisco</td>\n",
       "    </tr>\n",
       "  </tbody>\n",
       "</table>\n",
       "</div>"
      ],
      "text/plain": [
       "                       Product  Quantity_Ordered  Price_Each  \\\n",
       "373695  AAA Batteries (4-pack)               3.0        2.99   \n",
       "373696                  iPhone               1.0      700.00   \n",
       "373697                  iPhone               1.0      700.00   \n",
       "373698  34in Ultrawide Monitor               1.0      379.99   \n",
       "373699    USB-C Charging Cable               1.0       11.95   \n",
       "\n",
       "                Order_Date                         Purchase_Address  month  \\\n",
       "373695 2019-09-17 20:56:00   840 Highland St, Los Angeles, CA 90001      9   \n",
       "373696 2019-09-01 16:00:00  216 Dogwood St, San Francisco, CA 94016      9   \n",
       "373697 2019-09-23 07:39:00     220 12th St, San Francisco, CA 94016      9   \n",
       "373698 2019-09-19 17:30:00   511 Forest St, San Francisco, CA 94016      9   \n",
       "373699 2019-09-30 00:18:00   250 Meadow St, San Francisco, CA 94016      9   \n",
       "\n",
       "                  city  \n",
       "373695     Los Angeles  \n",
       "373696   San Francisco  \n",
       "373697   San Francisco  \n",
       "373698   San Francisco  \n",
       "373699   San Francisco  "
      ]
     },
     "execution_count": 160,
     "metadata": {},
     "output_type": "execute_result"
    }
   ],
   "source": [
    "data1.tail()"
   ]
  },
  {
   "cell_type": "code",
   "execution_count": 161,
   "id": "c481fe79",
   "metadata": {},
   "outputs": [
    {
     "name": "stdout",
     "output_type": "stream",
     "text": [
      "<class 'pandas.core.frame.DataFrame'>\n",
      "Int64Index: 371900 entries, 0 to 373699\n",
      "Data columns (total 7 columns):\n",
      " #   Column            Non-Null Count   Dtype         \n",
      "---  ------            --------------   -----         \n",
      " 0   Product           371900 non-null  object        \n",
      " 1   Quantity_Ordered  371900 non-null  float64       \n",
      " 2   Price_Each        371900 non-null  float64       \n",
      " 3   Order_Date        371900 non-null  datetime64[ns]\n",
      " 4   Purchase_Address  371900 non-null  object        \n",
      " 5   month             371900 non-null  int64         \n",
      " 6   city              371900 non-null  object        \n",
      "dtypes: datetime64[ns](1), float64(2), int64(1), object(3)\n",
      "memory usage: 30.8+ MB\n"
     ]
    }
   ],
   "source": [
    "data1.info()"
   ]
  },
  {
   "cell_type": "markdown",
   "id": "a34a91f4",
   "metadata": {},
   "source": [
    "* here i used the head, tail, info function to see how distributed new dataset"
   ]
  },
  {
   "cell_type": "code",
   "execution_count": 162,
   "id": "c3fba518",
   "metadata": {},
   "outputs": [
    {
     "data": {
      "text/html": [
       "<div>\n",
       "<style scoped>\n",
       "    .dataframe tbody tr th:only-of-type {\n",
       "        vertical-align: middle;\n",
       "    }\n",
       "\n",
       "    .dataframe tbody tr th {\n",
       "        vertical-align: top;\n",
       "    }\n",
       "\n",
       "    .dataframe thead th {\n",
       "        text-align: right;\n",
       "    }\n",
       "</style>\n",
       "<table border=\"1\" class=\"dataframe\">\n",
       "  <thead>\n",
       "    <tr style=\"text-align: right;\">\n",
       "      <th></th>\n",
       "      <th>Quantity_Ordered</th>\n",
       "      <th>Price_Each</th>\n",
       "    </tr>\n",
       "  </thead>\n",
       "  <tbody>\n",
       "    <tr>\n",
       "      <th>count</th>\n",
       "      <td>371900.000000</td>\n",
       "      <td>371900.000000</td>\n",
       "    </tr>\n",
       "    <tr>\n",
       "      <th>mean</th>\n",
       "      <td>1.124383</td>\n",
       "      <td>184.399735</td>\n",
       "    </tr>\n",
       "    <tr>\n",
       "      <th>std</th>\n",
       "      <td>0.442792</td>\n",
       "      <td>332.730883</td>\n",
       "    </tr>\n",
       "    <tr>\n",
       "      <th>min</th>\n",
       "      <td>1.000000</td>\n",
       "      <td>2.990000</td>\n",
       "    </tr>\n",
       "    <tr>\n",
       "      <th>25%</th>\n",
       "      <td>1.000000</td>\n",
       "      <td>11.950000</td>\n",
       "    </tr>\n",
       "    <tr>\n",
       "      <th>50%</th>\n",
       "      <td>1.000000</td>\n",
       "      <td>14.950000</td>\n",
       "    </tr>\n",
       "    <tr>\n",
       "      <th>75%</th>\n",
       "      <td>1.000000</td>\n",
       "      <td>150.000000</td>\n",
       "    </tr>\n",
       "    <tr>\n",
       "      <th>max</th>\n",
       "      <td>9.000000</td>\n",
       "      <td>1700.000000</td>\n",
       "    </tr>\n",
       "  </tbody>\n",
       "</table>\n",
       "</div>"
      ],
      "text/plain": [
       "       Quantity_Ordered     Price_Each\n",
       "count     371900.000000  371900.000000\n",
       "mean           1.124383     184.399735\n",
       "std            0.442792     332.730883\n",
       "min            1.000000       2.990000\n",
       "25%            1.000000      11.950000\n",
       "50%            1.000000      14.950000\n",
       "75%            1.000000     150.000000\n",
       "max            9.000000    1700.000000"
      ]
     },
     "execution_count": 162,
     "metadata": {},
     "output_type": "execute_result"
    }
   ],
   "source": [
    "data.describe()"
   ]
  },
  {
   "cell_type": "markdown",
   "id": "d6a84222",
   "metadata": {},
   "source": [
    "* Here i used The Describe Fuction to see five point summery of numeric columns. i.e. max, min, 25th percentile,75 percentile, 50 percentile is Median."
   ]
  },
  {
   "cell_type": "markdown",
   "id": "f7eca953",
   "metadata": {},
   "source": [
    "## Univariate Analysis"
   ]
  },
  {
   "cell_type": "code",
   "execution_count": 154,
   "id": "a941249b",
   "metadata": {},
   "outputs": [
    {
     "data": {
      "image/png": "[encoded data removed]",
      "text/plain": [
       "<Figure size 360x504 with 1 Axes>"
      ]
     },
     "metadata": {
      "needs_background": "light"
     },
     "output_type": "display_data"
    }
   ],
   "source": [
    "plt.figure(figsize = (5,7))\n",
    "plt.title(\"Frequency of product Name\")\n",
    "sns.countplot(y = \"Product\", data = data1)\n",
    "plt.show()"
   ]
  },
  {
   "cell_type": "markdown",
   "id": "29dafa54",
   "metadata": {},
   "source": [
    "* Here i can Easily see the product 'USB-C C harging cable' is max sold product."
   ]
  },
  {
   "cell_type": "code",
   "execution_count": 151,
   "id": "e116b46d",
   "metadata": {},
   "outputs": [
    {
     "data": {
      "image/png": "[encoded data removed]",
      "text/plain": [
       "<Figure size 360x504 with 1 Axes>"
      ]
     },
     "metadata": {
      "needs_background": "light"
     },
     "output_type": "display_data"
    }
   ],
   "source": [
    "plt.figure(figsize = (5,7))\n",
    "plt.title(\"Frequency of city\")\n",
    "sns.countplot(y = \"city\", data = data1)\n",
    "plt.show()"
   ]
  },
  {
   "cell_type": "markdown",
   "id": "3c464aff",
   "metadata": {},
   "source": [
    "* Here i can see the in the City San francisco max product purchased.\n",
    "* The City San Francisco is best for open to branch."
   ]
  },
  {
   "cell_type": "code",
   "execution_count": null,
   "id": "a6842ef5",
   "metadata": {},
   "outputs": [],
   "source": []
  },
  {
   "cell_type": "code",
   "execution_count": 156,
   "id": "5d17d4d7",
   "metadata": {},
   "outputs": [
    {
     "data": {
      "image/png": "[encoded data removed]",
      "text/plain": [
       "<Figure size 360x504 with 1 Axes>"
      ]
     },
     "metadata": {
      "needs_background": "light"
     },
     "output_type": "display_data"
    }
   ],
   "source": [
    "plt.figure(figsize = (5,7))\n",
    "plt.title(\"Frequency of product Month\")\n",
    "sns.countplot(x = \"month\", data = data1)\n",
    "plt.show()"
   ]
  },
  {
   "cell_type": "markdown",
   "id": "c779e1bd",
   "metadata": {},
   "source": [
    "* Here i can see the in the month december max product purchased."
   ]
  },
  {
   "cell_type": "code",
   "execution_count": 177,
   "id": "40a692a8",
   "metadata": {},
   "outputs": [
    {
     "data": {
      "text/plain": [
       "<seaborn.axisgrid.FacetGrid at 0x2c1a5ea8dc0>"
      ]
     },
     "execution_count": 177,
     "metadata": {},
     "output_type": "execute_result"
    },
    {
     "data": {
      "text/plain": [
       "<Figure size 720x360 with 0 Axes>"
      ]
     },
     "metadata": {},
     "output_type": "display_data"
    },
    {
     "data": {
      "image/png": "[encoded data removed]",
      "text/plain": [
       "<Figure size 360x360 with 1 Axes>"
      ]
     },
     "metadata": {
      "needs_background": "light"
     },
     "output_type": "display_data"
    }
   ],
   "source": [
    "plt.figure(figsize=(10, 5))\n",
    "sns.displot(data=data1, x=\"Quantity_Ordered\", kde=True)"
   ]
  },
  {
   "cell_type": "code",
   "execution_count": 178,
   "id": "7d333ae9",
   "metadata": {},
   "outputs": [
    {
     "data": {
      "text/plain": [
       "<seaborn.axisgrid.FacetGrid at 0x2c1a5f3dbb0>"
      ]
     },
     "execution_count": 178,
     "metadata": {},
     "output_type": "execute_result"
    },
    {
     "data": {
      "text/plain": [
       "<Figure size 720x360 with 0 Axes>"
      ]
     },
     "metadata": {},
     "output_type": "display_data"
    },
    {
     "data": {
      "image/png": "[encoded data removed]",
      "text/plain": [
       "<Figure size 360x360 with 1 Axes>"
      ]
     },
     "metadata": {
      "needs_background": "light"
     },
     "output_type": "display_data"
    }
   ],
   "source": [
    "plt.figure(figsize=(10, 5))\n",
    "sns.displot(data=data1, x=\"Price_Each\", kde=True)"
   ]
  },
  {
   "cell_type": "markdown",
   "id": "e082dabf",
   "metadata": {},
   "source": [
    "## Bivariate Analysis "
   ]
  },
  {
   "cell_type": "code",
   "execution_count": 173,
   "id": "8f0f1e72",
   "metadata": {},
   "outputs": [
    {
     "data": {
      "text/plain": [
       " San Francisco    89464\n",
       " Los Angeles      59210\n",
       " New York City    49752\n",
       " Boston           39868\n",
       " Atlanta          29762\n",
       " Dallas           29640\n",
       " Seattle          29464\n",
       " Portland         24930\n",
       " Austin           19810\n",
       "Name: city, dtype: int64"
      ]
     },
     "execution_count": 173,
     "metadata": {},
     "output_type": "execute_result"
    },
    {
     "data": {
      "image/png": "[encoded data removed]",
      "text/plain": [
       "<Figure size 720x360 with 1 Axes>"
      ]
     },
     "metadata": {
      "needs_background": "light"
     },
     "output_type": "display_data"
    }
   ],
   "source": [
    "plt.figure(figsize=(10,5))\n",
    "sns.boxplot(x=data1[\"city\"],y=data1[\"Price_Each\"],palette='rainbow')\n",
    "data1[\"city\"].value_counts()"
   ]
  },
  {
   "cell_type": "code",
   "execution_count": 180,
   "id": "3b95291b",
   "metadata": {},
   "outputs": [
    {
     "data": {
      "text/html": [
       "<div>\n",
       "<style scoped>\n",
       "    .dataframe tbody tr th:only-of-type {\n",
       "        vertical-align: middle;\n",
       "    }\n",
       "\n",
       "    .dataframe tbody tr th {\n",
       "        vertical-align: top;\n",
       "    }\n",
       "\n",
       "    .dataframe thead th {\n",
       "        text-align: right;\n",
       "    }\n",
       "</style>\n",
       "<table border=\"1\" class=\"dataframe\">\n",
       "  <thead>\n",
       "    <tr style=\"text-align: right;\">\n",
       "      <th></th>\n",
       "      <th>Quantity_Ordered</th>\n",
       "      <th>Price_Each</th>\n",
       "    </tr>\n",
       "  </thead>\n",
       "  <tbody>\n",
       "    <tr>\n",
       "      <th>Quantity_Ordered</th>\n",
       "      <td>1.000000</td>\n",
       "      <td>-0.343767</td>\n",
       "    </tr>\n",
       "    <tr>\n",
       "      <th>Price_Each</th>\n",
       "      <td>-0.343767</td>\n",
       "      <td>1.000000</td>\n",
       "    </tr>\n",
       "  </tbody>\n",
       "</table>\n",
       "</div>"
      ],
      "text/plain": [
       "                  Quantity_Ordered  Price_Each\n",
       "Quantity_Ordered          1.000000   -0.343767\n",
       "Price_Each               -0.343767    1.000000"
      ]
     },
     "execution_count": 180,
     "metadata": {},
     "output_type": "execute_result"
    }
   ],
   "source": [
    "data.corr(method ='spearman')"
   ]
  },
  {
   "cell_type": "code",
   "execution_count": 181,
   "id": "a8bd165b",
   "metadata": {},
   "outputs": [
    {
     "data": {
      "text/plain": [
       "Text(0.5, 1.0, 'Spearman Correlation')"
      ]
     },
     "execution_count": 181,
     "metadata": {},
     "output_type": "execute_result"
    },
    {
     "data": {
      "image/png": "[encoded data removed]",
      "text/plain": [
       "<Figure size 1152x720 with 2 Axes>"
      ]
     },
     "metadata": {
      "needs_background": "light"
     },
     "output_type": "display_data"
    }
   ],
   "source": [
    "def display_correlation(df):\n",
    "    r = data.corr(method=\"spearman\")\n",
    "plt.figure(figsize=(16,10))\n",
    "heatmap = sns.heatmap(data.corr(), vmin=-1, vmax=1, annot=True,cmap=\"YlGnBu\")\n",
    "plt.title(\"Spearman Correlation\")"
   ]
  },
  {
   "cell_type": "markdown",
   "id": "c45ae0bc",
   "metadata": {},
   "source": [
    "## Conclusion "
   ]
  },
  {
   "cell_type": "markdown",
   "id": "bbe2257c",
   "metadata": {},
   "source": [
    "* In the City San francisco max product purchased.\n",
    "* san francisco is good city for opening new branch"
   ]
  },
  {
   "cell_type": "code",
   "execution_count": null,
   "id": "285b3c0a",
   "metadata": {},
   "outputs": [],
   "source": []
  }
 ],
 "metadata": {
  "kernelspec": {
   "display_name": "Python 3 (ipykernel)",
   "language": "python",
   "name": "python3"
  },
  "language_info": {
   "codemirror_mode": {
    "name": "ipython",
    "version": 3
   },
   "file_extension": ".py",
   "mimetype": "text/x-python",
   "name": "python",
   "nbconvert_exporter": "python",
   "pygments_lexer": "ipython3",
   "version": "3.9.7"
  }
 },
 "nbformat": 4,
 "nbformat_minor": 5
}
